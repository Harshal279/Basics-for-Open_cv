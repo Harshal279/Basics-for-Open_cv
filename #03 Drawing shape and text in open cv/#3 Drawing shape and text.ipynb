{
 "cells": [
  {
   "cell_type": "code",
   "execution_count": 1,
   "id": "06c537ca",
   "metadata": {},
   "outputs": [],
   "source": [
    "# importing libraries\n",
    "import cv2 as cv\n",
    "import numpy as np"
   ]
  },
  {
   "cell_type": "code",
   "execution_count": 2,
   "id": "6c656568",
   "metadata": {},
   "outputs": [
    {
     "data": {
      "text/plain": [
       "-1"
      ]
     },
     "execution_count": 2,
     "metadata": {},
     "output_type": "execute_result"
    }
   ],
   "source": [
    "blank_img = np.zeros((500,500,3),dtype='uint8')  # This is the blank image with pixel 500*500 \n",
    "blank_img[250:500,250:500] = 0,255,0 \n",
    "# image [coordinate] = B, G ,R\n",
    "# [coordiante top left ,coordinate bottem left] = colour                    \n",
    "cv.imshow('blank',blank_img) \n",
    "cv.waitKey(0) "
   ]
  },
  {
   "cell_type": "code",
   "execution_count": 4,
   "id": "ecc2ad37",
   "metadata": {},
   "outputs": [
    {
     "data": {
      "text/plain": [
       "32"
      ]
     },
     "execution_count": 4,
     "metadata": {},
     "output_type": "execute_result"
    }
   ],
   "source": [
    "cv.rectangle(blank_img,(0,0),(250,250),(0,255,0),thickness = 2)      # thickness = -1 or FILLED fills the triangle \n",
    "#   shape   ( image, (coordinate top left),(coordinate top left), (colour), thickness)\n",
    "cv.imshow('blank',blank_img) \n",
    "cv.waitKey(0) "
   ]
  },
  {
   "cell_type": "code",
   "execution_count": 9,
   "id": "dec714a1",
   "metadata": {},
   "outputs": [
    {
     "data": {
      "text/plain": [
       "-1"
      ]
     },
     "execution_count": 9,
     "metadata": {},
     "output_type": "execute_result"
    }
   ],
   "source": [
    "cv.circle(blank_img,(125,125),70,(255,0,0),thickness = 2)\n",
    "#         shape ((image,(coordinate),radius,(colour),thickness))\n",
    "cv.imshow('blank',blank_img) \n",
    "cv.waitKey(0) "
   ]
  },
  {
   "cell_type": "code",
   "execution_count": 13,
   "id": "4cdfdb5e",
   "metadata": {},
   "outputs": [
    {
     "data": {
      "text/plain": [
       "-1"
      ]
     },
     "execution_count": 13,
     "metadata": {},
     "output_type": "execute_result"
    }
   ],
   "source": [
    "cv.line(blank_img,(0,0),(250,250),(0,255,0),thickness = 2)   # thickness = FILLED fills the triangle \n",
    "#  shape( image, (coordinate top left),(coordinate top left), (colour), thickness)\n",
    "cv.imshow('blank',blank_img) \n",
    "cv.waitKey(0)"
   ]
  },
  {
   "cell_type": "code",
   "execution_count": 14,
   "id": "006d4ca9",
   "metadata": {},
   "outputs": [
    {
     "data": {
      "text/plain": [
       "-1"
      ]
     },
     "execution_count": 14,
     "metadata": {},
     "output_type": "execute_result"
    }
   ],
   "source": [
    "cv.putText(blank_img,'Hello world',(200,280),cv.FONT_ITALIC,1.0,(225,225,225),2)\n",
    "cv.imshow('blank',blank_img)    \n",
    "cv.waitKey(0) "
   ]
  },
  {
   "cell_type": "code",
   "execution_count": null,
   "id": "ba76e160",
   "metadata": {},
   "outputs": [],
   "source": []
  }
 ],
 "metadata": {
  "kernelspec": {
   "display_name": "Python 3 (ipykernel)",
   "language": "python",
   "name": "python3"
  },
  "language_info": {
   "codemirror_mode": {
    "name": "ipython",
    "version": 3
   },
   "file_extension": ".py",
   "mimetype": "text/x-python",
   "name": "python",
   "nbconvert_exporter": "python",
   "pygments_lexer": "ipython3",
   "version": "3.11.5"
  }
 },
 "nbformat": 4,
 "nbformat_minor": 5
}
