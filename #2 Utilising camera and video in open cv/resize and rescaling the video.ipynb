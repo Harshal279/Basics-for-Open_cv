{
 "cells": [
  {
   "cell_type": "markdown",
   "id": "8d2ee479",
   "metadata": {},
   "source": [
    "# resize and rescaling the video"
   ]
  },
  {
   "cell_type": "code",
   "execution_count": 3,
   "id": "f07dfb45",
   "metadata": {},
   "outputs": [],
   "source": [
    "import cv2 as cv"
   ]
  },
  {
   "cell_type": "markdown",
   "id": "95f2485a",
   "metadata": {},
   "source": [
    "<h3>This function takes an image frame (frame) and a scaling factor (scale) as input and resizes the frame accordingly.<h3>"
   ]
  },
  {
   "cell_type": "code",
   "execution_count": 4,
   "id": "bcdfc654",
   "metadata": {},
   "outputs": [],
   "source": [
    "def rescaleFrame (frame,scale) :\n",
    "    # Here shape is tuple which takes 3 argument [hight, width ,channel]\n",
    "    width = int(frame.shape[1] * scale )    # Here in shape argument is 1 = width of frame  \n",
    "    Height = int(frame.shape[0] * scale)    # Here in shape argument is 1 = height of frame\n",
    "    dimentions = (width,Height)             # for using it variable is given\n",
    "    # here below we have returned the output which include original frame and the dimentions  \n",
    "    return cv.resize(frame,dimentions,interpolation = cv.INTER_AREA) \n",
    "    #This interpolation method is typically used when shrinking an image and is suitable for downsampling."
   ]
  },
  {
   "cell_type": "code",
   "execution_count": 5,
   "id": "ac5c20db",
   "metadata": {},
   "outputs": [
    {
     "name": "stdout",
     "output_type": "stream",
     "text": [
      "< cv2.VideoCapture 00000260375A0A10>\n"
     ]
    }
   ],
   "source": [
    "capture = cv.VideoCapture('dog.mp4')\n",
    "print(capture)                       #Here if none comes means video is not found"
   ]
  },
  {
   "cell_type": "markdown",
   "id": "d6fff143",
   "metadata": {},
   "source": [
    "<h3>video loaded in variable<h3>"
   ]
  },
  {
   "cell_type": "code",
   "execution_count": 6,
   "id": "d9d7f033",
   "metadata": {},
   "outputs": [
    {
     "name": "stdout",
     "output_type": "stream",
     "text": [
      "Error: Could not read frame.\n"
     ]
    }
   ],
   "source": [
    "while True :\n",
    "    istrue, frame = capture.read()\n",
    "    if not istrue:\n",
    "        print(\"Error: Could not read frame.\")      # Press q while running the video for removing this error\n",
    "        break\n",
    "    cv.imshow('frame', frame)\n",
    "    frame_resized = rescaleFrame(frame,0.5)\n",
    "    cv.imshow('Resized_vid',frame_resized)\n",
    "    if cv.waitKey(1) & 0xFF == ord('q'):\n",
    "        break\n",
    "capture.release()\n",
    "cv.destroyAllWindows()"
   ]
  },
  {
   "cell_type": "code",
   "execution_count": null,
   "id": "9b679d22",
   "metadata": {},
   "outputs": [],
   "source": [
    "<h3>By using the function we have sucessfully in above code we have resized the video  <h3>"
   ]
  }
 ],
 "metadata": {
  "kernelspec": {
   "display_name": "Python 3 (ipykernel)",
   "language": "python",
   "name": "python3"
  },
  "language_info": {
   "codemirror_mode": {
    "name": "ipython",
    "version": 3
   },
   "file_extension": ".py",
   "mimetype": "text/x-python",
   "name": "python",
   "nbconvert_exporter": "python",
   "pygments_lexer": "ipython3",
   "version": "3.11.5"
  }
 },
 "nbformat": 4,
 "nbformat_minor": 5
}
