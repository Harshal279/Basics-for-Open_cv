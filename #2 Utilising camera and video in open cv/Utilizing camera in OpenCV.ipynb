{
 "cells": [
  {
   "cell_type": "markdown",
   "id": "1b7adffc",
   "metadata": {},
   "source": [
    "# Utilizing Camera and Videos in OpenCV"
   ]
  },
  {
   "cell_type": "code",
   "execution_count": 25,
   "id": "24c6427f",
   "metadata": {},
   "outputs": [],
   "source": [
    "import cv2   # importing the open cv library"
   ]
  },
  {
   "cell_type": "code",
   "execution_count": 28,
   "id": "a35f86cd",
   "metadata": {},
   "outputs": [],
   "source": [
    "capture = cv2.VideoCapture(0)  # 0 for the default camera, 1 for other cameras\n",
    "#                          ^                        \n",
    "# you can give path to a video here like wise ('path')"
   ]
  },
  {
   "cell_type": "markdown",
   "id": "4a2a460f",
   "metadata": {},
   "source": [
    "<h5>VideoCapture : is a class in the OpenCV library (cv2 module) used to capture video from various sources<h5><br>"
   ]
  },
  {
   "cell_type": "markdown",
   "id": "2deb6aa6",
   "metadata": {},
   "source": [
    "syntax : cv2.VideoCapture('path') <br>\n",
    "0  : Default camera capture <br> \n",
    "1  : other then default camera <br>\n",
    "path : path for the video "
   ]
  },
  {
   "cell_type": "markdown",
   "id": "21dcda64",
   "metadata": {},
   "source": [
    "<h3>The code given below is important for running the video smooth as compiler reads the video frame by frame <h3>"
   ]
  },
  {
   "cell_type": "code",
   "execution_count": 27,
   "id": "4ff46473",
   "metadata": {},
   "outputs": [],
   "source": [
    "while True:                                  # this is for running the frame window (loop)\n",
    "    istrue, frame = capture.read()\n",
    "    cv2.imshow('frame', frame)               # Showing the actual frame variable\n",
    "    if cv2.waitKey(1) & 0xFF == ord('q'):    #for the closing of the window \n",
    "        break\n",
    "capture.release()                            #releasing the video which we have captured \n",
    "cv2.destroyAllWindows()"
   ]
  },
  {
   "cell_type": "markdown",
   "id": "5d28f4c7",
   "metadata": {},
   "source": [
    "<h3>Code for changing colour of output <h3>"
   ]
  },
  {
   "cell_type": "code",
   "execution_count": 29,
   "id": "99719664",
   "metadata": {},
   "outputs": [],
   "source": [
    "while True:                                         # Loop indefinitely\n",
    "    istrue, frame = capture.read()                  # Read a frame from the video source\n",
    "    gray = cv2.cvtColor(frame,cv2.COLOR_BGR2GRAY)   # Convert the frame to grayscale\n",
    "    cv2.imshow('frame', gray)                       # Display the grayscale frame in a window named 'frame'\n",
    "    if cv2.waitKey(1) & 0xFF == ord('q'):           # Wait for a key press. If 'q' is pressed, break the loop\n",
    "        break\n",
    "capture.release()                                   # Release the video capture object\n",
    "cv2.destroyAllWindows()                             # Close all OpenCV windows\n",
    "# note do not run upper code for running this code sucessfully"
   ]
  }
 ],
 "metadata": {
  "kernelspec": {
   "display_name": "Python 3 (ipykernel)",
   "language": "python",
   "name": "python3"
  },
  "language_info": {
   "codemirror_mode": {
    "name": "ipython",
    "version": 3
   },
   "file_extension": ".py",
   "mimetype": "text/x-python",
   "name": "python",
   "nbconvert_exporter": "python",
   "pygments_lexer": "ipython3",
   "version": "3.11.5"
  }
 },
 "nbformat": 4,
 "nbformat_minor": 5
}
