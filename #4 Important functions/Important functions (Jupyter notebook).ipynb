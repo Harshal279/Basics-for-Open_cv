{
 "cells": [
  {
   "cell_type": "markdown",
   "id": "bf6f5961",
   "metadata": {},
   "source": [
    "# Important functions\n"
   ]
  },
  {
   "cell_type": "code",
   "execution_count": 2,
   "id": "f120bbb5",
   "metadata": {},
   "outputs": [],
   "source": [
    "import cv2 as cv "
   ]
  },
  {
   "cell_type": "markdown",
   "id": "eed6a960",
   "metadata": {},
   "source": [
    "Original image"
   ]
  },
  {
   "cell_type": "code",
   "execution_count": 7,
   "id": "1c6b8714",
   "metadata": {},
   "outputs": [
    {
     "data": {
      "text/plain": [
       "-1"
      ]
     },
     "execution_count": 7,
     "metadata": {},
     "output_type": "execute_result"
    }
   ],
   "source": [
    "matrix=cv.imread('lena.jpg')            # Read as a matrix\n",
    "cv.imshow('oirginal',matrix) \n",
    "cv.waitKey(2000)"
   ]
  },
  {
   "cell_type": "markdown",
   "id": "a3162f59",
   "metadata": {},
   "source": [
    "Changing the colour\n"
   ]
  },
  {
   "cell_type": "code",
   "execution_count": 4,
   "id": "3c5b77a9",
   "metadata": {},
   "outputs": [
    {
     "ename": "NameError",
     "evalue": "name 'matrix' is not defined",
     "output_type": "error",
     "traceback": [
      "\u001b[1;31m---------------------------------------------------------------------------\u001b[0m",
      "\u001b[1;31mNameError\u001b[0m                                 Traceback (most recent call last)",
      "Cell \u001b[1;32mIn[4], line 1\u001b[0m\n\u001b[1;32m----> 1\u001b[0m gray_img\u001b[38;5;241m=\u001b[39mcv\u001b[38;5;241m.\u001b[39mcvtColor(matrix,cv\u001b[38;5;241m.\u001b[39mCOLOR_BGR2GRAY)  \u001b[38;5;66;03m# converted form rgb to gray\u001b[39;00m\n\u001b[0;32m      2\u001b[0m image\u001b[38;5;241m=\u001b[39mcv\u001b[38;5;241m.\u001b[39mimshow(\u001b[38;5;124m'\u001b[39m\u001b[38;5;124mGray\u001b[39m\u001b[38;5;124m'\u001b[39m,gray_img) \n\u001b[0;32m      3\u001b[0m cv\u001b[38;5;241m.\u001b[39mwaitKey(\u001b[38;5;241m2000\u001b[39m)\n",
      "\u001b[1;31mNameError\u001b[0m: name 'matrix' is not defined"
     ]
    }
   ],
   "source": [
    "gray_img=cv.cvtColor(matrix,cv.COLOR_BGR2GRAY)  # converted form rgb to gray\n",
    "image=cv.imshow('Gray',gray_img) \n",
    "cv.waitKey(2000)"
   ]
  },
  {
   "cell_type": "markdown",
   "id": "d48dd721",
   "metadata": {},
   "source": [
    "Bluring the image"
   ]
  },
  {
   "cell_type": "code",
   "execution_count": 1,
   "id": "67f3e961",
   "metadata": {},
   "outputs": [
    {
     "ename": "NameError",
     "evalue": "name 'cv' is not defined",
     "output_type": "error",
     "traceback": [
      "\u001b[1;31m---------------------------------------------------------------------------\u001b[0m",
      "\u001b[1;31mNameError\u001b[0m                                 Traceback (most recent call last)",
      "Cell \u001b[1;32mIn[1], line 1\u001b[0m\n\u001b[1;32m----> 1\u001b[0m blur\u001b[38;5;241m=\u001b[39m cv\u001b[38;5;241m.\u001b[39mGaussianBlur(matrix,(\u001b[38;5;241m9\u001b[39m,\u001b[38;5;241m9\u001b[39m),cv\u001b[38;5;241m.\u001b[39mBORDER_DEFAULT)  \u001b[38;5;66;03m# This can be use eo reduce noise form image\u001b[39;00m\n\u001b[0;32m      2\u001b[0m \u001b[38;5;66;03m# syntax = function   (image,(gaussian_kernal),border type)\u001b[39;00m\n\u001b[0;32m      3\u001b[0m cv\u001b[38;5;241m.\u001b[39mimshow(\u001b[38;5;124m'\u001b[39m\u001b[38;5;124mblur\u001b[39m\u001b[38;5;124m'\u001b[39m,blur)\n",
      "\u001b[1;31mNameError\u001b[0m: name 'cv' is not defined"
     ]
    }
   ],
   "source": [
    "blur= cv.GaussianBlur(matrix,(9,9),cv.BORDER_DEFAULT)  # This can be use eo reduce noise form image\n",
    "# syntax = function   (image,(gaussian_kernal),border type)\n",
    "cv.imshow('blur',blur)"
   ]
  },
  {
   "cell_type": "markdown",
   "id": "bd77afb9",
   "metadata": {},
   "source": [
    "Edge cascade image                                "
   ]
  },
  {
   "cell_type": "code",
   "execution_count": null,
   "id": "30a26210",
   "metadata": {},
   "outputs": [],
   "source": [
    "#   lower threshold value. Any gradient value below this threshold will be considered as not an edge\n",
    "#                      |\n",
    "canny=cv.Canny(matrix,125,175)  #  just pass blur image here and see\n",
    "#                          | \n",
    "# upper threshold value. Any gradient value above this threshold will be considered as a strong edge\n",
    "cv.imshow('canny',canny)\n",
    "# syntax = cv.Canny(image, threshold1, threshold2)"
   ]
  },
  {
   "cell_type": "markdown",
   "id": "17a3a96d",
   "metadata": {},
   "source": [
    "Dilating the image"
   ]
  },
  {
   "cell_type": "code",
   "execution_count": 2,
   "id": "9f9aa943",
   "metadata": {},
   "outputs": [
    {
     "ename": "NameError",
     "evalue": "name 'cv' is not defined",
     "output_type": "error",
     "traceback": [
      "\u001b[1;31m---------------------------------------------------------------------------\u001b[0m",
      "\u001b[1;31mNameError\u001b[0m                                 Traceback (most recent call last)",
      "Cell \u001b[1;32mIn[2], line 2\u001b[0m\n\u001b[0;32m      1\u001b[0m \u001b[38;5;66;03m# This function can make the border more darker\u001b[39;00m\n\u001b[1;32m----> 2\u001b[0m dilate\u001b[38;5;241m=\u001b[39mcv\u001b[38;5;241m.\u001b[39mdilate(canny,(\u001b[38;5;241m3\u001b[39m,\u001b[38;5;241m3\u001b[39m),iterations\u001b[38;5;241m=\u001b[39m\u001b[38;5;241m9\u001b[39m)\n\u001b[0;32m      3\u001b[0m \u001b[38;5;66;03m#syntax =  function(src, kernel, iterations)\u001b[39;00m\n\u001b[0;32m      5\u001b[0m cv\u001b[38;5;241m.\u001b[39mimshow(\u001b[38;5;124m'\u001b[39m\u001b[38;5;124mdilated\u001b[39m\u001b[38;5;124m'\u001b[39m,dilate)\n",
      "\u001b[1;31mNameError\u001b[0m: name 'cv' is not defined"
     ]
    }
   ],
   "source": [
    "# This function can make the border more darker\n",
    "\n",
    "dilate=cv.dilate(canny,(3,3),iterations=9)\n",
    "#syntax =  function(src, kernel, iterations)\n",
    "\n",
    "cv.imshow('dilated',dilate)"
   ]
  },
  {
   "cell_type": "markdown",
   "id": "2eb6021d",
   "metadata": {},
   "source": [
    "Erodeing the image"
   ]
  },
  {
   "cell_type": "code",
   "execution_count": null,
   "id": "dc390697",
   "metadata": {},
   "outputs": [],
   "source": [
    "# erode function is used for making dilated image to undilated\n",
    "\n",
    "erode=cv.erode(dilate,(3,3),iterations=10)\n",
    "#syntax =  function(src, kernel, iterations)\n",
    "\n",
    "cv.imshow('eroded_img',erode)"
   ]
  },
  {
   "cell_type": "markdown",
   "id": "3b408093",
   "metadata": {},
   "source": [
    "Croping the image"
   ]
  },
  {
   "cell_type": "code",
   "execution_count": null,
   "id": "63a88d05",
   "metadata": {},
   "outputs": [],
   "source": [
    "croping_image = matrix[50:200,200:400]\n",
    "#syntax = image[y1:y2, x1:x2]\n",
    "\n",
    "cv.imshow('cropedimage',croping_image)"
   ]
  }
 ],
 "metadata": {
  "kernelspec": {
   "display_name": "Python 3 (ipykernel)",
   "language": "python",
   "name": "python3"
  },
  "language_info": {
   "codemirror_mode": {
    "name": "ipython",
    "version": 3
   },
   "file_extension": ".py",
   "mimetype": "text/x-python",
   "name": "python",
   "nbconvert_exporter": "python",
   "pygments_lexer": "ipython3",
   "version": "3.11.5"
  }
 },
 "nbformat": 4,
 "nbformat_minor": 5
}
