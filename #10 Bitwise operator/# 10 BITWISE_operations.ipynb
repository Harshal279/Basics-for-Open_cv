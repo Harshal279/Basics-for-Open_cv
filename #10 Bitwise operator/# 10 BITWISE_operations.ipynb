{
  "nbformat": 4,
  "nbformat_minor": 0,
  "metadata": {
    "colab": {
      "provenance": []
    },
    "kernelspec": {
      "name": "python3",
      "display_name": "Python 3"
    },
    "language_info": {
      "name": "python"
    }
  },
  "cells": [
    {
      "cell_type": "code",
      "execution_count": 23,
      "metadata": {
        "id": "5QwCB9munMZc"
      },
      "outputs": [],
      "source": []
    },
    {
      "cell_type": "markdown",
      "source": [
        "## 4 BITWISE operator\n",
        "\n",
        "1.   AND\n",
        "2.   OR\n",
        "3.   XOR\n",
        "4.   NOT\n",
        "\n",
        "Bitwise operator is usually used in masking<br>\n",
        "It operates on binary operator\n",
        "\n",
        "\n",
        "\n",
        "\n",
        "\n",
        "\n"
      ],
      "metadata": {
        "id": "VdxoWe8Yomkh"
      }
    },
    {
      "cell_type": "code",
      "source": [
        "import cv2 as cv\n",
        "import numpy as np\n",
        "from google.colab.patches import cv2_imshow"
      ],
      "metadata": {
        "id": "0V6TqCJYo7RJ"
      },
      "execution_count": 24,
      "outputs": []
    },
    {
      "cell_type": "code",
      "source": [
        "# creating a black image\n",
        "blank = np.zeros((400,400),dtype ='uint8')\n"
      ],
      "metadata": {
        "id": "mN9kxHVKqoHa"
      },
      "execution_count": 25,
      "outputs": []
    },
    {
      "cell_type": "code",
      "source": [
        "rectangle = cv.rectangle(blank.copy() ,(30,30) ,(370,370),225,-1)\n",
        "circle = cv.circle(blank.copy() ,(200,200),200,255,-1)"
      ],
      "metadata": {
        "id": "i0Xl1B7GrL8Q"
      },
      "execution_count": 26,
      "outputs": []
    },
    {
      "cell_type": "code",
      "source": [
        "cv2_imshow(rectangle)\n",
        "cv2_imshow(circle)"
      ],
      "metadata": {
        "colab": {
          "base_uri": "https://localhost:8080/",
          "height": 817
        },
        "id": "dBWZOuzkrlLU",
        "outputId": "1a813e1d-e898-417d-e8a3-c3686f840509"
      },
      "execution_count": 27,
      "outputs": [
        {
          "output_type": "display_data",
          "data": {
            "text/plain": [
              "<PIL.Image.Image image mode=L size=400x400>"
            ],
            "image/png": "[encoded data removed]"
          },
          "metadata": {}
        },
        {
          "output_type": "display_data",
          "data": {
            "text/plain": [
              "<PIL.Image.Image image mode=L size=400x400>"
            ],
            "image/png": "[encoded data removed]"
          },
          "metadata": {}
        }
      ]
    },
    {
      "cell_type": "markdown",
      "source": [
        "# Bitwise (and)"
      ],
      "metadata": {
        "id": "1_a-jrv24IBX"
      }
    },
    {
      "cell_type": "code",
      "source": [
        "Bitwise_and = cv.bitwise_and(rectangle,circle)\n",
        "cv2_imshow(Bitwise_and)"
      ],
      "metadata": {
        "colab": {
          "base_uri": "https://localhost:8080/",
          "height": 417
        },
        "id": "MV23vbYQ4M0V",
        "outputId": "6972a02d-81f4-4b7f-9925-031673312e86"
      },
      "execution_count": 28,
      "outputs": [
        {
          "output_type": "display_data",
          "data": {
            "text/plain": [
              "<PIL.Image.Image image mode=L size=400x400>"
            ],
            "image/png": "[encoded data removed]"
          },
          "metadata": {}
        }
      ]
    },
    {
      "cell_type": "markdown",
      "source": [
        "# Bitwise (or)"
      ],
      "metadata": {
        "id": "XVdub4yI4s4H"
      }
    },
    {
      "cell_type": "code",
      "source": [
        "Bitwise_or = cv.bitwise_or(rectangle,circle)\n",
        "cv2_imshow(Bitwise_or)"
      ],
      "metadata": {
        "colab": {
          "base_uri": "https://localhost:8080/",
          "height": 417
        },
        "id": "pbBpypED4pyw",
        "outputId": "b7afca6b-3ec2-4123-fc49-97fd2916de7c"
      },
      "execution_count": 29,
      "outputs": [
        {
          "output_type": "display_data",
          "data": {
            "text/plain": [
              "<PIL.Image.Image image mode=L size=400x400>"
            ],
            "image/png": "[encoded data removed]"
          },
          "metadata": {}
        }
      ]
    },
    {
      "cell_type": "markdown",
      "source": [
        "# Bitwise (XOR)"
      ],
      "metadata": {
        "id": "YtwECMOq5Cw_"
      }
    },
    {
      "cell_type": "code",
      "source": [
        "Bitwise_xor = cv.bitwise_xor(rectangle,circle)\n",
        "cv2_imshow(Bitwise_xor)"
      ],
      "metadata": {
        "colab": {
          "base_uri": "https://localhost:8080/",
          "height": 417
        },
        "id": "K4L0z1M64zsS",
        "outputId": "952ce1b9-8a38-4acc-a6eb-406f188f1ebd"
      },
      "execution_count": 30,
      "outputs": [
        {
          "output_type": "display_data",
          "data": {
            "text/plain": [
              "<PIL.Image.Image image mode=L size=400x400>"
            ],
            "image/png": "[encoded data removed]"
          },
          "metadata": {}
        }
      ]
    },
    {
      "cell_type": "markdown",
      "source": [
        "# Bitwise (NOT)"
      ],
      "metadata": {
        "id": "42syuHBH5Wqr"
      }
    },
    {
      "cell_type": "code",
      "source": [
        "Bitwise_not = cv.bitwise_not(rectangle)\n",
        "cv2_imshow(Bitwise_not)"
      ],
      "metadata": {
        "colab": {
          "base_uri": "https://localhost:8080/",
          "height": 417
        },
        "id": "FaBnPdod5ULu",
        "outputId": "04479fd9-bb76-46ad-8c26-be59b030d18a"
      },
      "execution_count": 31,
      "outputs": [
        {
          "output_type": "display_data",
          "data": {
            "text/plain": [
              "<PIL.Image.Image image mode=L size=400x400>"
            ],
            "image/png": "[encoded data removed]"
          },
          "metadata": {}
        }
      ]
    },
    {
      "cell_type": "code",
      "source": [
        "Bitwise_not1 = cv.bitwise_not(circle)\n",
        "cv2_imshow(Bitwise_not1)"
      ],
      "metadata": {
        "colab": {
          "base_uri": "https://localhost:8080/",
          "height": 417
        },
        "id": "0CCA4Sjf5eMk",
        "outputId": "6da09e7e-fa29-45f9-e3b3-d99f4e27c687"
      },
      "execution_count": 32,
      "outputs": [
        {
          "output_type": "display_data",
          "data": {
            "text/plain": [
              "<PIL.Image.Image image mode=L size=400x400>"
            ],
            "image/png": "[encoded data removed]"
          },
          "metadata": {}
        }
      ]
    }
  ]
}