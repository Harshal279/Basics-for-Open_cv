{
 "cells": [
  {
   "cell_type": "code",
   "execution_count": 35,
   "id": "868b5e25",
   "metadata": {},
   "outputs": [],
   "source": [
    "import cv2 as cv\n",
    "image = cv.imread('lena.jpg')"
   ]
  },
  {
   "cell_type": "code",
   "execution_count": 36,
   "id": "f0bfad88",
   "metadata": {},
   "outputs": [
    {
     "data": {
      "text/plain": [
       "-1"
      ]
     },
     "execution_count": 36,
     "metadata": {},
     "output_type": "execute_result"
    }
   ],
   "source": [
    "cv.imshow('image',image)\n",
    "cv.waitKey(4000)"
   ]
  },
  {
   "cell_type": "code",
   "execution_count": 37,
   "id": "85efd51d",
   "metadata": {},
   "outputs": [],
   "source": [
    "def rescaleFrame(image, scale):\n",
    "    # Here shape is tuple which takes 3 argument [hight, width ,channel]\n",
    "    width = int(image.shape[1] * scale)     # Here in shape argument is 1 = width of frame\n",
    "    height = int(image.shape[0] * scale)    # Here in shape argument is 1 = height of frame\n",
    "    dimensions = (width, height)\n",
    "    # here below we have returned the output which include original frame and the dimentions  \n",
    "    return cv.resize(image, dimensions, interpolation=cv.INTER_AREA)\n",
    "    #This interpolation method is typically used when shrinking an image and is suitable for downsampling."
   ]
  },
  {
   "cell_type": "code",
   "execution_count": 38,
   "id": "69087b4b",
   "metadata": {},
   "outputs": [],
   "source": [
    "resized = rescaleFrame(image, 2)   # function used \n",
    "cv.imshow('resized_img', resized)  # This will show the resized image \n",
    "cv.waitKey(4000)\n",
    "cv.destroyAllWindows()             # use this to destroy all windows unless the notebook kernal will not respond (use this at the lasy only)"
   ]
  }
 ],
 "metadata": {
  "kernelspec": {
   "display_name": "Python 3 (ipykernel)",
   "language": "python",
   "name": "python3"
  },
  "language_info": {
   "codemirror_mode": {
    "name": "ipython",
    "version": 3
   },
   "file_extension": ".py",
   "mimetype": "text/x-python",
   "name": "python",
   "nbconvert_exporter": "python",
   "pygments_lexer": "ipython3",
   "version": "3.11.5"
  }
 },
 "nbformat": 4,
 "nbformat_minor": 5
}
