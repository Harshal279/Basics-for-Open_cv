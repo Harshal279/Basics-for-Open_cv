{
 "cells": [
  {
   "cell_type": "code",
   "execution_count": 3,
   "id": "f9e38f52",
   "metadata": {},
   "outputs": [
    {
     "name": "stdout",
     "output_type": "stream",
     "text": [
      "< cv2.VideoCapture 0000022154BA4DB0>\n"
     ]
    }
   ],
   "source": [
    "import cv2 \n",
    "capture = cv2.VideoCapture('dog.mp4')\n",
    "print(capture)  # Here if none comes then video is not read by compiler check path and typo"
   ]
  },
  {
   "cell_type": "code",
   "execution_count": 4,
   "id": "6461ddb2",
   "metadata": {},
   "outputs": [],
   "source": [
    "\n",
    "# Check if the video file was opened successfully\n",
    "if not capture.isOpened():\n",
    "    print(\"Error: Could not read frame\")\n",
    "    exit()\n",
    "\n",
    "# Loop to continuously display frames\n",
    "while True:\n",
    "    istrue, frame = capture.read()             # Read a frame from the video source\n",
    "    # Check if a frame was successfully read\n",
    "    if not istrue:\n",
    "        print(\"Error: Could not read frame.\")  # This error will thrown if the file is not closed by pressing q\n",
    "        break\n",
    "    cv2.imshow('frame', frame)                 # Display the frame in a window named 'frame'\n",
    "    if cv2.waitKey(1) & 0xFF == ord('q'):      # Check for a key press. If 'q' is pressed, break the loop\n",
    "        break\n",
    "\n",
    "# Release the video capture object\n",
    "capture.release()\n",
    "cv2.destroyAllWindows()\n"
   ]
  }
 ],
 "metadata": {
  "kernelspec": {
   "display_name": "Python 3 (ipykernel)",
   "language": "python",
   "name": "python3"
  },
  "language_info": {
   "codemirror_mode": {
    "name": "ipython",
    "version": 3
   },
   "file_extension": ".py",
   "mimetype": "text/x-python",
   "name": "python",
   "nbconvert_exporter": "python",
   "pygments_lexer": "ipython3",
   "version": "3.11.5"
  }
 },
 "nbformat": 4,
 "nbformat_minor": 5
}
