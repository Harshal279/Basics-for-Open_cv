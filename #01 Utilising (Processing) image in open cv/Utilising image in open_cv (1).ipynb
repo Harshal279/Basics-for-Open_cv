{
 "cells": [
  {
   "cell_type": "markdown",
   "id": "a78d3bcf",
   "metadata": {},
   "source": [
    "\n",
    "# Utilising image in open cv"
   ]
  },
  {
   "cell_type": "markdown",
   "id": "bc4a5674",
   "metadata": {},
   "source": [
    "open cv reads image in form of matrix"
   ]
  },
  {
   "cell_type": "code",
   "execution_count": 11,
   "id": "60a45fd1",
   "metadata": {},
   "outputs": [
    {
     "name": "stdout",
     "output_type": "stream",
     "text": [
      "[[[128 138 225]\n",
      "  [127 137 224]\n",
      "  [126 136 224]\n",
      "  ...\n",
      "  [126 145 236]\n",
      "  [110 129 220]\n",
      "  [ 86 104 197]]\n",
      "\n",
      " [[127 137 224]\n",
      "  [127 137 224]\n",
      "  [127 137 224]\n",
      "  ...\n",
      "  [130 150 235]\n",
      "  [112 132 217]\n",
      "  [ 83 102 189]]\n",
      "\n",
      " [[127 137 224]\n",
      "  [127 137 224]\n",
      "  [128 138 225]\n",
      "  ...\n",
      "  [127 148 230]\n",
      "  [112 133 215]\n",
      "  [ 85 105 190]]\n",
      "\n",
      " ...\n",
      "\n",
      " [[ 55  21  82]\n",
      "  [ 54  20  81]\n",
      "  [ 62  28  92]\n",
      "  ...\n",
      "  [ 82  71 175]\n",
      "  [ 78  68 175]\n",
      "  [ 74  65 175]]\n",
      "\n",
      " [[ 55  18  80]\n",
      "  [ 56  19  81]\n",
      "  [ 66  32  96]\n",
      "  ...\n",
      "  [ 82  69 177]\n",
      "  [ 80  71 181]\n",
      "  [ 81  72 183]]\n",
      "\n",
      " [[ 56  19  81]\n",
      "  [ 58  21  83]\n",
      "  [ 68  34  98]\n",
      "  ...\n",
      "  [ 81  68 176]\n",
      "  [ 81  72 183]\n",
      "  [ 84  74 188]]]\n"
     ]
    }
   ],
   "source": [
    "import cv2 as cv\n",
    "img_matrix = cv.imread('C:\\\\Users\\\\tanma\\\\lena.jpg', -1)  # reading the image\n",
    "print(img_matrix)\n",
    "import os\n"
   ]
  },
  {
   "cell_type": "markdown",
   "id": "f1320a4f",
   "metadata": {},
   "source": [
    "imread : function is used to read an image from the file system into a NumPy array"
   ]
  },
  {
   "cell_type": "markdown",
   "id": "629df786",
   "metadata": {},
   "source": [
    "syntax : cv2.iamread('path',flag) "
   ]
  },
  {
   "cell_type": "markdown",
   "id": "68eebe39",
   "metadata": {},
   "source": [
    "flag :  when you want to read images with multiple color channels \n",
    "# flag -1 --> load colour img \n",
    "# flag 0 -->  grayscale img  \n",
    "# flag 1 -->  unchanged as it is "
   ]
  },
  {
   "cell_type": "code",
   "execution_count": 13,
   "id": "9db8e47b",
   "metadata": {},
   "outputs": [
    {
     "name": "stdout",
     "output_type": "stream",
     "text": [
      "None\n"
     ]
    }
   ],
   "source": [
    "img_original = cv.imshow('image',img_matrix) # unlike the matrix this will show the image \n",
    "print(img_original) # none is provided by this line\n",
    "cv.waitKey(4000) # This is use to hold the window which will show the image \n",
    "# 4000 = 4s\n",
    "# 0 = unlimited \n",
    "cv.destroyAllWindows() # closes all the windows opened"
   ]
  },
  {
   "cell_type": "markdown",
   "id": "874150a4",
   "metadata": {},
   "source": [
    "syntax : cv2.imshow('window name, image path ')"
   ]
  },
  {
   "cell_type": "markdown",
   "id": "99275c65",
   "metadata": {},
   "source": [
    "imshow is a function in the OpenCV library (cv2 module) used to display an image in a window. It takes two parameters: Window Name\n",
    "and Image"
   ]
  },
  {
   "cell_type": "code",
   "execution_count": 14,
   "id": "1f78d588",
   "metadata": {},
   "outputs": [
    {
     "data": {
      "text/plain": [
       "True"
      ]
     },
     "execution_count": 14,
     "metadata": {},
     "output_type": "execute_result"
    }
   ],
   "source": [
    "cv.imwrite('lena_copy.png',img_matrix) # for writing the img named lena copy.png  \n",
    "# if we have to use the keyboard use there is  builtin function called ord('1 argument key form keyboard')"
   ]
  },
  {
   "cell_type": "markdown",
   "id": "dfeb78a5",
   "metadata": {},
   "source": [
    "syntax : cv2.imwrite('image name',matrix) # this takes imput as a matix "
   ]
  },
  {
   "cell_type": "markdown",
   "id": "5316f036",
   "metadata": {},
   "source": [
    "imwrite' is a function in the OpenCV library (cv2 module) used to save an image to a file. It takes two parameters:File Path and Image"
   ]
  },
  {
   "cell_type": "code",
   "execution_count": null,
   "id": "34c9b964",
   "metadata": {},
   "outputs": [],
   "source": []
  },
  {
   "cell_type": "code",
   "execution_count": null,
   "id": "84cfbb12",
   "metadata": {},
   "outputs": [],
   "source": []
  }
 ],
 "metadata": {
  "kernelspec": {
   "display_name": "Python 3 (ipykernel)",
   "language": "python",
   "name": "python3"
  },
  "language_info": {
   "codemirror_mode": {
    "name": "ipython",
    "version": 3
   },
   "file_extension": ".py",
   "mimetype": "text/x-python",
   "name": "python",
   "nbconvert_exporter": "python",
   "pygments_lexer": "ipython3",
   "version": "3.11.5"
  }
 },
 "nbformat": 4,
 "nbformat_minor": 5
}
